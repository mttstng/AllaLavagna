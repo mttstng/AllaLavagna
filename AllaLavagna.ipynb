{
 "cells": [
  {
   "cell_type": "code",
   "execution_count": null,
   "id": "43a0a58f-872b-4cd8-ad0b-cb676427df94",
   "metadata": {},
   "outputs": [],
   "source": [
    "import random\n",
    "\n",
    "# elenco iniziale di nomi\n",
    "nomi = [\"Matteo\", \"Marco\", \"Luca\", \"Giovanni\"]\n",
    "\n",
    "# elenco dei nomi scartati\n",
    "scartati = []\n",
    "\n",
    "while nomi:  # continua finché ci sono nomi disponibili\n",
    "    nome = random.choice(nomi)\n",
    "    risposta = input(f\"Toccherebbe a {nome}! Va bene? (s/n):  \").strip().lower()\n",
    "    \n",
    "    if risposta == \"s\":\n",
    "        print(f\"\\nBenissimo! Dai {nome}, vieni alla lavagna per favore!\", end=\"\\n\\n\")\n",
    "        break\n",
    "    else:\n",
    "        print(f\"\\n Pazienza, se {nome} non va bene proviamo con qualcun altro!\\n\\n Allora adesso...\", end=\"\\n\\n\")\n",
    "        scartati.append(nome)\n",
    "        nomi.remove(nome)\n",
    "\n",
    "if not nomi:\n",
    "    print(\"Non ci sono più nomi disponibili.\")\n",
    "    print(\"Elenco dei nomi scartati:\", \", \".join(scartati))\n"
   ]
  }
 ],
 "metadata": {
  "kernelspec": {
   "display_name": "Python 3 (ipykernel)",
   "language": "python",
   "name": "python3"
  },
  "language_info": {
   "codemirror_mode": {
    "name": "ipython",
    "version": 3
   },
   "file_extension": ".py",
   "mimetype": "text/x-python",
   "name": "python",
   "nbconvert_exporter": "python",
   "pygments_lexer": "ipython3",
   "version": "3.12.0"
  }
 },
 "nbformat": 4,
 "nbformat_minor": 5
}
