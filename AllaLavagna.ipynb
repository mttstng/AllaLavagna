{
 "cells": [
  {
   "cell_type": "code",
   "execution_count": 7,
   "id": "43a0a58f-872b-4cd8-ad0b-cb676427df94",
   "metadata": {},
   "outputs": [
    {
     "name": "stdin",
     "output_type": "stream",
     "text": [
      "Toccherebbe a Matteo! Va bene? (s/n):   n\n"
     ]
    },
    {
     "name": "stdout",
     "output_type": "stream",
     "text": [
      "\n",
      " Pazienza, se Matteo non va bene proviamo con qualcun altro!\n",
      "\n",
      " Allora adesso...\n",
      "\n"
     ]
    },
    {
     "name": "stdin",
     "output_type": "stream",
     "text": [
      "Toccherebbe a Marco! Va bene? (s/n):   n\n"
     ]
    },
    {
     "name": "stdout",
     "output_type": "stream",
     "text": [
      "\n",
      " Pazienza, se Marco non va bene proviamo con qualcun altro!\n",
      "\n",
      " Allora adesso...\n",
      "\n"
     ]
    },
    {
     "name": "stdin",
     "output_type": "stream",
     "text": [
      "Toccherebbe a Giovanni! Va bene? (s/n):   n\n"
     ]
    },
    {
     "name": "stdout",
     "output_type": "stream",
     "text": [
      "\n",
      " Pazienza, se Giovanni non va bene proviamo con qualcun altro!\n",
      "\n",
      " Allora adesso...\n",
      "\n"
     ]
    },
    {
     "name": "stdin",
     "output_type": "stream",
     "text": [
      "Toccherebbe a Luca! Va bene? (s/n):   n\n"
     ]
    },
    {
     "name": "stdout",
     "output_type": "stream",
     "text": [
      "\n",
      " Pazienza, se Luca non va bene proviamo con qualcun altro!\n",
      "\n",
      " Allora adesso...\n",
      "\n",
      "Non ci sono più nomi disponibili.\n",
      "Elenco dei nomi scartati: Matteo, Marco, Giovanni, Luca\n"
     ]
    }
   ],
   "source": [
    "import random\n",
    "\n",
    "# elenco iniziale di nomi\n",
    "nomi = [\"Matteo\", \"Marco\", \"Luca\", \"Giovanni\"]\n",
    "\n",
    "# elenco dei nomi scartati\n",
    "scartati = []\n",
    "\n",
    "while nomi:  # continua finché ci sono nomi disponibili\n",
    "    nome = random.choice(nomi)\n",
    "    risposta = input(f\"Toccherebbe a {nome}! Va bene? (s/n):  \").strip().lower()\n",
    "    \n",
    "    if risposta == \"s\":\n",
    "        print(f\"\\nBenissimo! Dai {nome}, vieni alla lavagna per favore!\", end=\"\\n\\n\")\n",
    "        break\n",
    "    else:\n",
    "        print(f\"\\n Pazienza, se {nome} non va bene proviamo con qualcun altro!\\n\\n Allora adesso...\", end=\"\\n\\n\")\n",
    "        scartati.append(nome)\n",
    "        nomi.remove(nome)\n",
    "\n",
    "if not nomi:\n",
    "    print(\"Non ci sono più nomi disponibili.\")\n",
    "    print(\"Elenco dei nomi scartati:\", \", \".join(scartati))\n"
   ]
  },
  {
   "cell_type": "code",
   "execution_count": null,
   "id": "7ad41fab-6f6b-46d0-a9ff-2faad575c048",
   "metadata": {},
   "outputs": [],
   "source": [
    "progetti/AllaLavagna-Copy1.ipynb"
   ]
  }
 ],
 "metadata": {
  "kernelspec": {
   "display_name": "Python 3 (ipykernel)",
   "language": "python",
   "name": "python3"
  },
  "language_info": {
   "codemirror_mode": {
    "name": "ipython",
    "version": 3
   },
   "file_extension": ".py",
   "mimetype": "text/x-python",
   "name": "python",
   "nbconvert_exporter": "python",
   "pygments_lexer": "ipython3",
   "version": "3.12.0"
  }
 },
 "nbformat": 4,
 "nbformat_minor": 5
}
